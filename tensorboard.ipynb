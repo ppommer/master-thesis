{
 "cells": [
  {
   "cell_type": "markdown",
   "metadata": {},
   "source": [
    "# TensorBoard Projector"
   ]
  },
  {
   "cell_type": "code",
   "execution_count": null,
   "metadata": {},
   "outputs": [],
   "source": [
    "import os\n",
    "import numpy as np\n",
    "import tensorflow as tf\n",
    "from tensorboard.plugins import projector"
   ]
  },
  {
   "cell_type": "code",
   "execution_count": null,
   "metadata": {},
   "outputs": [],
   "source": [
    "def visualize_embedding(word_to_vec_map: dict, dir_name: str):\n",
    "    \"\"\"\n",
    "    Creates TensorBoard files to visualize a given word_to_vec_map.\n",
    "\n",
    "    Arguments:\n",
    "    word_to_vec_map -- dictionary mapping words to vectors\n",
    "    dir_name -- name of the directory to be created in TensorBoard logs\n",
    "    \"\"\"\n",
    "    # Create logging directory\n",
    "    log_dir = os.path.join(os.getcwd(), \"logs\", dir_name)\n",
    "\n",
    "    if not os.path.exists(log_dir):\n",
    "        os.makedirs(log_dir)\n",
    "\n",
    "    # Write word-index dictionary\n",
    "    with open(os.path.join(log_dir, \"vectors.tsv\"), \"w\") as vectors, open(os.path.join(log_dir, \"metadata.tsv\"), \"w\") as metadata:\n",
    "        for word, vec in word_to_vec_map.items():\n",
    "            vectors.write(\"\\t\".join([str(x) for x in vec]) + \"\\n\")\n",
    "            metadata.write(word + \"\\n\")\n",
    "\n",
    "    with open(os.path.join(log_dir, \"vectors.tsv\"), \"r\") as vectors:\n",
    "        feature_vectors = np.loadtxt(vectors, delimiter=\"\\t\")\n",
    "\n",
    "    # Create checkpoint from embeddings\n",
    "    weights = tf.Variable(feature_vectors)\n",
    "    checkpoint = tf.train.Checkpoint(embedding=weights)\n",
    "    checkpoint.save(os.path.join(log_dir, \"embedding.ckpt\"))\n",
    "\n",
    "    # Configure set-up\n",
    "    config = projector.ProjectorConfig()\n",
    "    embedding = config.embeddings.add()\n",
    "    embedding.tensor_name = \"embedding/.ATTRIBUTES/VARIABLE_VALUE\"\n",
    "    embedding.metadata_path = os.path.join(log_dir, \"metadata.tsv\")\n",
    "    projector.visualize_embeddings(log_dir, config)"
   ]
  },
  {
   "cell_type": "code",
   "execution_count": null,
   "metadata": {},
   "outputs": [],
   "source": [
    "%load_ext tensorboard # Select logs dir"
   ]
  }
 ],
 "metadata": {
  "interpreter": {
   "hash": "908d8e35cafed2d8dcd55d36887f8c99001effcbffca4378cf2efe6ecc18c15a"
  },
  "kernelspec": {
   "display_name": "Python 3.10.2 ('.venv': venv)",
   "language": "python",
   "name": "python3"
  },
  "language_info": {
   "name": "python",
   "version": "3.10.2"
  },
  "orig_nbformat": 4
 },
 "nbformat": 4,
 "nbformat_minor": 2
}
