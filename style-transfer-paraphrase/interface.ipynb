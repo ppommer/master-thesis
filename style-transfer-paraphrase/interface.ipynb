{
 "cells": [
  {
   "cell_type": "markdown",
   "metadata": {},
   "source": [
    "# Interface - *style-transfer-paraphrase*"
   ]
  },
  {
   "cell_type": "code",
   "execution_count": 1,
   "metadata": {},
   "outputs": [
    {
     "ename": "FileNotFoundError",
     "evalue": "[Errno 2] No such file or directory: 'datasets/paranmt_filtered/train.pickle'",
     "output_type": "error",
     "traceback": [
      "\u001b[1;31m---------------------------------------------------------------------------\u001b[0m",
      "\u001b[1;31mFileNotFoundError\u001b[0m                         Traceback (most recent call last)",
      "\u001b[1;32mc:\\Users\\paulpommer\\repos\\master-thesis\\style-transfer-paraphrase\\interface.ipynb Cell 2'\u001b[0m in \u001b[0;36m<cell line: 3>\u001b[1;34m()\u001b[0m\n\u001b[0;32m      <a href='vscode-notebook-cell:/c%3A/Users/paulpommer/repos/master-thesis/style-transfer-paraphrase/interface.ipynb#ch0000000?line=0'>1</a>\u001b[0m \u001b[39mimport\u001b[39;00m \u001b[39mpickle\u001b[39;00m\n\u001b[1;32m----> <a href='vscode-notebook-cell:/c%3A/Users/paulpommer/repos/master-thesis/style-transfer-paraphrase/interface.ipynb#ch0000000?line=2'>3</a>\u001b[0m \u001b[39mwith\u001b[39;00m \u001b[39mopen\u001b[39;49m(\u001b[39m\"\u001b[39;49m\u001b[39mdatasets/paranmt_filtered/train.pickle\u001b[39;49m\u001b[39m\"\u001b[39;49m, \u001b[39m\"\u001b[39;49m\u001b[39mrb\u001b[39;49m\u001b[39m\"\u001b[39;49m) \u001b[39mas\u001b[39;00m f:\n\u001b[0;32m      <a href='vscode-notebook-cell:/c%3A/Users/paulpommer/repos/master-thesis/style-transfer-paraphrase/interface.ipynb#ch0000000?line=3'>4</a>\u001b[0m     parse_data \u001b[39m=\u001b[39m pickle\u001b[39m.\u001b[39mload(f)\n",
      "\u001b[1;31mFileNotFoundError\u001b[0m: [Errno 2] No such file or directory: 'datasets/paranmt_filtered/train.pickle'"
     ]
    }
   ],
   "source": [
    "import pickle\n",
    "\n",
    "with open(\"datasets/paranmt_filtered/train.pickle\", \"rb\") as f:\n",
    "    parse_data = pickle.load(f)"
   ]
  },
  {
   "cell_type": "code",
   "execution_count": 8,
   "metadata": {},
   "outputs": [
    {
     "data": {
      "application/vnd.jupyter.widget-view+json": {
       "model_id": "ea217573b0c8472ba4b085d58beba8f5",
       "version_major": 2,
       "version_minor": 0
      },
      "text/plain": [
       "0it [00:00, ?it/s]"
      ]
     },
     "metadata": {},
     "output_type": "display_data"
    }
   ],
   "source": [
    "# Create data set\n",
    "with open(\"../neutralizing-bias/src/bias_data/WNC/biased.full\", \"r\", encoding=\"utf8\") as input_file:\n",
    "    with open(\"data_samples/wnc_biased.txt\", \"w\", encoding=\"utf8\") as output_file_biased:\n",
    "        with open(\"data_samples/wnc_neutral.txt\", \"w\", encoding=\"utf8\") as output_file_neutral:\n",
    "            for line in input_file:\n",
    "                line_split = line.split(\"\\t\")\n",
    "                output_file_biased.write(line_split[3] + \"\\n\")\n",
    "                output_file_neutral.write(line_split[4] + \"\\n\")"
   ]
  },
  {
   "cell_type": "code",
   "execution_count": 3,
   "metadata": {},
   "outputs": [
    {
     "name": "stdout",
     "output_type": "stream",
     "text": [
      "('S > NP VP .', 'S > SBAR , NP VP .', False, 'Mr. Whetstone is goingto speak to you after I finish.', \"after I'm done, Mr. Whetstone will be speaking.\", (0.3, 0.375, 0.33333333333333326), (-0.33333333333333337, False), 2, ('en', 'en'))\n"
     ]
    }
   ],
   "source": [
    "print(parse_data[0])"
   ]
  },
  {
   "cell_type": "code",
   "execution_count": 4,
   "metadata": {},
   "outputs": [
    {
     "name": "stderr",
     "output_type": "stream",
     "text": [
      "c:\\Users\\paulpommer\\repos\\style-transfer-paraphrase\\.venv\\lib\\site-packages\\tqdm\\auto.py:22: TqdmWarning: IProgress not found. Please update jupyter and ipywidgets. See https://ipywidgets.readthedocs.io/en/stable/user_install.html\n",
      "  from .autonotebook import tqdm as notebook_tqdm\n",
      "Some weights of the model checkpoint at paraphraser_gpt2_large were not used when initializing GPT2LMHeadModel: ['transformer.extra_embedding_project.weight', 'transformer.extra_embedding_project.bias']\n",
      "- This IS expected if you are initializing GPT2LMHeadModel from the checkpoint of a model trained on another task or with another architecture (e.g. initializing a BertForSequenceClassification model from a BertForPreTraining model).\n",
      "- This IS NOT expected if you are initializing GPT2LMHeadModel from the checkpoint of a model that you expect to be exactly identical (initializing a BertForSequenceClassification model from a BertForSequenceClassification model).\n",
      "c:\\Users\\paulpommer\\repos\\style-transfer-paraphrase\\style_paraphrase\\inference_utils.py:95: UserWarning: Creating a tensor from a list of numpy.ndarrays is extremely slow. Please consider converting the list to a single numpy.ndarray with numpy.array() before converting to a tensor. (Triggered internally at  ..\\torch\\csrc\\utils\\tensor_new.cpp:210.)\n",
      "  gpt2_sentences=torch.tensor([inst.sentence for inst in instances]),#.to(args.device),\n"
     ]
    },
    {
     "name": "stdout",
     "output_type": "stream",
     "text": [
      "\n",
      "greedy sample:\n",
      "it's an example sentence.\n",
      "\n",
      "top_p = 0.60 samples:\n",
      "this is an example sentence.\n",
      "it's an example sentence.\n",
      "this is an example sentence.\n",
      "\n"
     ]
    }
   ],
   "source": [
    "from style_paraphrase.inference_utils import GPT2Generator\n",
    "\n",
    "model_dir = \"paraphraser_gpt2_large\"\n",
    "top_p_value = 0.6\n",
    "\n",
    "paraphraser = GPT2Generator(model_dir, upper_length=\"same_5\")\n",
    "\n",
    "inputs = [\"This is an example sentence.\"]\n",
    "\n",
    "for input in inputs:\n",
    "    paraphraser.modify_p(top_p=0.0)\n",
    "    greedy_decoding = paraphraser.generate(input)\n",
    "    print(\"\\ngreedy sample:\\n{}\\n\".format(greedy_decoding))\n",
    "    paraphraser.modify_p(top_p=top_p_value)\n",
    "    top_p_60_samples, _ = paraphraser.generate_batch([input, input, input])\n",
    "    top_p_60_samples = \"\\n\".join(top_p_60_samples)\n",
    "    print(\"top_p = {:.2f} samples:\\n{}\\n\".format(top_p_value, top_p_60_samples))"
   ]
  }
 ],
 "metadata": {
  "interpreter": {
   "hash": "31bfecb55e47aa6114916bebd989923dee775c9fc4561c703a73924e94baf6a2"
  },
  "kernelspec": {
   "display_name": "Python 3.10.3 ('.venv': venv)",
   "language": "python",
   "name": "python3"
  },
  "language_info": {
   "codemirror_mode": {
    "name": "ipython",
    "version": 3
   },
   "file_extension": ".py",
   "mimetype": "text/x-python",
   "name": "python",
   "nbconvert_exporter": "python",
   "pygments_lexer": "ipython3",
   "version": "3.10.3"
  },
  "orig_nbformat": 4
 },
 "nbformat": 4,
 "nbformat_minor": 2
}
