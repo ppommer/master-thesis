{
 "cells": [
  {
   "cell_type": "markdown",
   "metadata": {},
   "source": [
    "# Interface - *style-transfer-paraphrase*"
   ]
  },
  {
   "cell_type": "markdown",
   "metadata": {},
   "source": [
    "#### Prepare WNC"
   ]
  },
  {
   "cell_type": "code",
   "execution_count": null,
   "metadata": {},
   "outputs": [],
   "source": [
    "# Extract biased and neutral from biased.full\n",
    "with open(\"../neutralizing-bias/src/bias_data/WNC/biased.full\", \"r\", encoding=\"utf8\") as source_file:\n",
    "    with open(\"datasets/WNC/wnc_biased.txt\", \"w\", encoding=\"utf8\") as target_file_biased:\n",
    "        with open(\"datasets/WNC/wnc_neutral.txt\", \"w\", encoding=\"utf8\") as target_file_neutral:\n",
    "            for line in source_file:\n",
    "                line_split = line.split(\"\\t\")\n",
    "                target_file_biased.write(line_split[3] + \"\\n\")\n",
    "                target_file_neutral.write(line_split[4] + \"\\n\")"
   ]
  },
  {
   "cell_type": "code",
   "execution_count": 2,
   "metadata": {},
   "outputs": [],
   "source": [
    "# Extract neutral from biased.full and neutral\n",
    "with open(\"../neutralizing-bias/src/bias_data/WNC/biased.full\", \"r\", encoding=\"utf8\") as source_file_1:\n",
    "    with open(\"../neutralizing-bias/src/bias_data/WNC/neutral\", \"r\", encoding=\"utf8\") as source_file_2:\n",
    "        with open(\"datasets/WNC/wnc_neutral_large.txt\", \"w\", encoding=\"utf8\") as target_file:\n",
    "            for line in source_file_1:\n",
    "                line_split = line.split(\"\\t\")\n",
    "                target_file.write(line_split[4] + \"\\n\")\n",
    "            for line in source_file_2:\n",
    "                line_split = line.split(\"\\t\")\n",
    "                target_file.write(line_split[4])"
   ]
  },
  {
   "cell_type": "code",
   "execution_count": 4,
   "metadata": {},
   "outputs": [],
   "source": [
    "# Randomly shuffle neutral\n",
    "import random\n",
    "\n",
    "with open(\"datasets/WNC/wnc_neutral_large.txt\", \"r\", encoding=\"utf8\") as source:\n",
    "    data = [(random.random(), line) for line in source]\n",
    "    data.sort()\n",
    "\n",
    "with open(\"datasets/WNC/wnc_neutral_large_shuffle.txt\", \"w\", encoding=\"utf8\") as target:\n",
    "    for _, line in data:\n",
    "        target.write(line)"
   ]
  },
  {
   "cell_type": "markdown",
   "metadata": {},
   "source": [
    "#### Split Train-Dev-Test"
   ]
  },
  {
   "cell_type": "code",
   "execution_count": 6,
   "metadata": {},
   "outputs": [],
   "source": [
    "# 80-10-10 split for biased and neutral from biased.full\n",
    "num_sentences = 181496\n",
    "\n",
    "with open(\"datasets/WNC/wnc_biased.txt\", \"r\", encoding=\"utf8\") as source_file:\n",
    "    with open(\"datasets/WNC_biased/train.txt\", \"w\", encoding=\"utf8\") as train_file:\n",
    "        with open(\"datasets/WNC_biased/dev.txt\", \"w\", encoding=\"utf8\") as dev_file:\n",
    "            with open(\"datasets/WNC_biased/test.txt\", \"w\", encoding=\"utf8\") as test_file:\n",
    "                for i, line in enumerate(source_file):\n",
    "                    if i < num_sentences * 0.8:\n",
    "                        train_file.write(line)\n",
    "                    elif i < num_sentences * 0.9:\n",
    "                        dev_file.write(line)\n",
    "                    else:\n",
    "                        test_file.write(line)\n",
    "\n",
    "with open(\"datasets/WNC/wnc_neutral.txt\", \"r\", encoding=\"utf8\") as source_file:\n",
    "    with open(\"datasets/WNC_neutral/train.txt\", \"w\", encoding=\"utf8\") as train_file:\n",
    "        with open(\"datasets/WNC_neutral/dev.txt\", \"w\", encoding=\"utf8\") as dev_file:\n",
    "            with open(\"datasets/WNC_neutral/test.txt\", \"w\", encoding=\"utf8\") as test_file:\n",
    "                for i, line in enumerate(source_file):\n",
    "                    if i < num_sentences * 0.8:\n",
    "                        train_file.write(line)\n",
    "                    elif i < num_sentences * 0.9:\n",
    "                        dev_file.write(line)\n",
    "                    else:\n",
    "                        test_file.write(line)"
   ]
  },
  {
   "cell_type": "code",
   "execution_count": 5,
   "metadata": {},
   "outputs": [],
   "source": [
    "# 90-5-5 split for neutral from biased.full and neutral\n",
    "num_sentences = 567023\n",
    "\n",
    "with open(\"datasets/WNC/wnc_neutral_large_shuffle.txt\", \"r\", encoding=\"utf8\") as source_file:\n",
    "    with open(\"datasets/WNC_neutral_large/train.txt\", \"w\", encoding=\"utf8\") as train_file:\n",
    "        with open(\"datasets/WNC_neutral_large/dev.txt\", \"w\", encoding=\"utf8\") as dev_file:\n",
    "            with open(\"datasets/WNC_neutral_large/test.txt\", \"w\", encoding=\"utf8\") as test_file:\n",
    "                for i, line in enumerate(source_file):\n",
    "                    if i < num_sentences * 0.9:\n",
    "                        train_file.write(line)\n",
    "                    elif i < num_sentences * 0.95:\n",
    "                        dev_file.write(line)\n",
    "                    else:\n",
    "                        test_file.write(line)"
   ]
  },
  {
   "cell_type": "markdown",
   "metadata": {},
   "source": [
    "#### Create Label Files"
   ]
  },
  {
   "cell_type": "code",
   "execution_count": 7,
   "metadata": {},
   "outputs": [],
   "source": [
    "# Create labels for biased and neutral from biased.full\n",
    "with open(\"datasets/WNC_biased/train.label\", \"w\", encoding=\"utf8\") as train_label_file:\n",
    "    with open(\"datasets/WNC_biased/dev.label\", \"w\", encoding=\"utf8\") as dev_label_file:\n",
    "        with open(\"datasets/WNC_biased/test.label\", \"w\", encoding=\"utf8\") as test_label_file:\n",
    "            for i in range(num_sentences):\n",
    "                if i < num_sentences * 0.8:\n",
    "                    train_label_file.write(\"biased\\n\")\n",
    "                elif i < num_sentences * 0.9:\n",
    "                    dev_label_file.write(\"biased\\n\")\n",
    "                else:\n",
    "                    test_label_file.write(\"biased\\n\")\n",
    "\n",
    "\n",
    "with open(\"datasets/WNC_neutral/train.label\", \"w\", encoding=\"utf8\") as train_label_file:\n",
    "    with open(\"datasets/WNC_neutral/dev.label\", \"w\", encoding=\"utf8\") as dev_label_file:\n",
    "        with open(\"datasets/WNC_neutral/test.label\", \"w\", encoding=\"utf8\") as test_label_file:\n",
    "            for i in range(num_sentences):\n",
    "                if i < num_sentences * 0.8:\n",
    "                    train_label_file.write(\"neutral\\n\")\n",
    "                elif i < num_sentences * 0.9:\n",
    "                    dev_label_file.write(\"neutral\\n\")\n",
    "                else:\n",
    "                    test_label_file.write(\"neutral\\n\")"
   ]
  },
  {
   "cell_type": "code",
   "execution_count": 6,
   "metadata": {},
   "outputs": [],
   "source": [
    "# Create labels for neutral from biased.full and neutral\n",
    "with open(\"datasets/WNC_neutral_large/train.label\", \"w\", encoding=\"utf8\") as train_label_file:\n",
    "    with open(\"datasets/WNC_neutral_large/dev.label\", \"w\", encoding=\"utf8\") as dev_label_file:\n",
    "        with open(\"datasets/WNC_neutral_large/test.label\", \"w\", encoding=\"utf8\") as test_label_file:\n",
    "            for i in range(num_sentences):\n",
    "                if i < num_sentences * 0.9:\n",
    "                    train_label_file.write(\"neutral\\n\")\n",
    "                elif i < num_sentences * 0.95:\n",
    "                    dev_label_file.write(\"neutral\\n\")\n",
    "                else:\n",
    "                    test_label_file.write(\"neutral\\n\")"
   ]
  },
  {
   "cell_type": "markdown",
   "metadata": {},
   "source": [
    "#### Explore train data"
   ]
  },
  {
   "cell_type": "code",
   "execution_count": null,
   "metadata": {},
   "outputs": [],
   "source": [
    "import pickle\n",
    "\n",
    "with open(\"datasets/paranmt_filtered/train.pickle\", \"rb\") as f:\n",
    "    parse_data = pickle.load(f)"
   ]
  },
  {
   "cell_type": "code",
   "execution_count": null,
   "metadata": {},
   "outputs": [],
   "source": [
    "print(parse_data[0])"
   ]
  },
  {
   "cell_type": "markdown",
   "metadata": {},
   "source": [
    "Lines to change for CPU/GPU use:\n",
    "- inference_utils.py: 53, 95, 96, 97\n",
    "- utils.py: 15, 16, 52"
   ]
  },
  {
   "cell_type": "code",
   "execution_count": 1,
   "metadata": {},
   "outputs": [
    {
     "name": "stderr",
     "output_type": "stream",
     "text": [
      "/home/pp/master-thesis/.venv/lib/python3.10/site-packages/tqdm/auto.py:22: TqdmWarning: IProgress not found. Please update jupyter and ipywidgets. See https://ipywidgets.readthedocs.io/en/stable/user_install.html\n",
      "  from .autonotebook import tqdm as notebook_tqdm\n",
      "Some weights of the model checkpoint at paraphraser_gpt2_large were not used when initializing GPT2LMHeadModel: ['transformer.extra_embedding_project.weight', 'transformer.extra_embedding_project.bias']\n",
      "- This IS expected if you are initializing GPT2LMHeadModel from the checkpoint of a model trained on another task or with another architecture (e.g. initializing a BertForSequenceClassification model from a BertForPreTraining model).\n",
      "- This IS NOT expected if you are initializing GPT2LMHeadModel from the checkpoint of a model that you expect to be exactly identical (initializing a BertForSequenceClassification model from a BertForSequenceClassification model).\n",
      "/home/pp/master-thesis/style-transfer-paraphrase/style_paraphrase/inference_utils.py:95: UserWarning: Creating a tensor from a list of numpy.ndarrays is extremely slow. Please consider converting the list to a single numpy.ndarray with numpy.array() before converting to a tensor. (Triggered internally at  ../torch/csrc/utils/tensor_new.cpp:210.)\n",
      "  gpt2_sentences=torch.tensor([inst.sentence for inst in instances]),#.to(args.device),\n"
     ]
    },
    {
     "name": "stdout",
     "output_type": "stream",
     "text": [
      "\n",
      "greedy sample:\n",
      "it's an example sentence.\n",
      "\n",
      "top_p = 0.60 samples:\n",
      "here's an example sentence.\n",
      "it's a short example.\n",
      "this is an example of the sentence.\n",
      "\n"
     ]
    }
   ],
   "source": [
    "from style_paraphrase.inference_utils import GPT2Generator\n",
    "\n",
    "model_dir = \"models/paraphraser_gpt2_large\"\n",
    "top_p_value = 0.6\n",
    "\n",
    "paraphraser = GPT2Generator(model_dir, upper_length=\"same_5\")\n",
    "\n",
    "inputs = [\"This is an example sentence.\"]\n",
    "\n",
    "for input in inputs:\n",
    "    paraphraser.modify_p(top_p=0.0)\n",
    "    greedy_decoding = paraphraser.generate(input)\n",
    "    print(\"\\ngreedy sample:\\n{}\\n\".format(greedy_decoding))\n",
    "    paraphraser.modify_p(top_p=top_p_value)\n",
    "    top_p_60_samples, _ = paraphraser.generate_batch([input, input, input])\n",
    "    top_p_60_samples = \"\\n\".join(top_p_60_samples)\n",
    "    print(\"top_p = {:.2f} samples:\\n{}\\n\".format(top_p_value, top_p_60_samples))"
   ]
  }
 ],
 "metadata": {
  "interpreter": {
   "hash": "31bfecb55e47aa6114916bebd989923dee775c9fc4561c703a73924e94baf6a2"
  },
  "kernelspec": {
   "display_name": "Python 3.10.3 ('.venv': venv)",
   "language": "python",
   "name": "python3"
  },
  "language_info": {
   "codemirror_mode": {
    "name": "ipython",
    "version": 3
   },
   "file_extension": ".py",
   "mimetype": "text/x-python",
   "name": "python",
   "nbconvert_exporter": "python",
   "pygments_lexer": "ipython3",
   "version": "3.10.3"
  },
  "orig_nbformat": 4
 },
 "nbformat": 4,
 "nbformat_minor": 2
}
