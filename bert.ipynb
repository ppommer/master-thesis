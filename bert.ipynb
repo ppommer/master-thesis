{
 "cells": [
  {
   "cell_type": "markdown",
   "metadata": {},
   "source": [
    "# BERT (Bidirectional Encoder Representations from Transformers)\n",
    "Paper: https://arxiv.org/pdf/1810.04805.pdf\n",
    "\n",
    "Implementation: https://mccormickml.com/2019/05/14/BERT-word-embeddings-tutorial/"
   ]
  },
  {
   "cell_type": "code",
   "execution_count": null,
   "metadata": {},
   "outputs": [],
   "source": [
    "import torch\n",
    "from tqdm import tqdm\n",
    "from transformers import BertTokenizer, BertModel"
   ]
  },
  {
   "cell_type": "code",
   "execution_count": null,
   "metadata": {},
   "outputs": [],
   "source": [
    "def create_word_to_vec_map(vocab: list) -> dict({str: list[float]}):\n",
    "    \"\"\"\n",
    "    Create a dictionary mapping from words of a given vocab to the respective word's embedding.\n",
    "\n",
    "    Arguments:\n",
    "    vocab -- list of words\n",
    "\n",
    "    Returns:\n",
    "    bert -- Dictionary containing the words with their respective word embeddings\n",
    "    \"\"\"\n",
    "    bert = {}\n",
    "\n",
    "    # Load pre-trained model weights\n",
    "    model = BertModel.from_pretrained(\"bert-base-uncased\", output_hidden_states=True)\n",
    "\n",
    "    # Set evaluation mode (feed-forward operation without dropout regularization)\n",
    "    model.eval()\n",
    "\n",
    "    # Load tokenizer\n",
    "    tokenizer = BertTokenizer.from_pretrained(\"bert-base-uncased\")\n",
    "\n",
    "    for word in tqdm(vocab):\n",
    "        text = \"[CLS] \" + word + \" [SEP]\"\n",
    "\n",
    "        # Add tags ([CLS] in the beginning, [SEP] at the end or as separator between two sentences)\n",
    "        marked_text = \"[CLS] \" + text + \" [SEP]\"\n",
    "\n",
    "        # Tokenize the sentence with the BERT tokenizer\n",
    "        tokenized_text = tokenizer.tokenize(marked_text)\n",
    "\n",
    "        # Map the token strings to their vocab indices\n",
    "        indexed_tokens = tokenizer.convert_tokens_to_ids(tokenized_text)\n",
    "\n",
    "        # Set segment IDs (0 for the first sentence, 1 for the second sentence or a single sentence)\n",
    "        segments_ids = [1] * len(tokenized_text)\n",
    "\n",
    "        # Convert inputs to PyTorch tensors\n",
    "        tokens_tensor = torch.tensor([indexed_tokens])\n",
    "        segments_tensors = torch.tensor([segments_ids])\n",
    "\n",
    "        # Forward pass without constructing compute graph (only needed for backprop) to reduce memory\n",
    "        with torch.no_grad():\n",
    "            outputs = model(tokens_tensor, segments_tensors)\n",
    "\n",
    "        # Third item of outputs contains hidden states from all layers\n",
    "        hidden_states = outputs[2]\n",
    "\n",
    "        # Concatenate tensors for all layers\n",
    "        token_embeddings = torch.stack(hidden_states, dim=0)\n",
    "\n",
    "        # Remove \"batches\" dimension\n",
    "        token_embeddings = torch.squeeze(token_embeddings, dim=1)\n",
    "\n",
    "        # Switch \"layers\" and \"tokens\" dimension to result in [tokens, layers, dimensions]\n",
    "        token_embeddings = token_embeddings.permute(1, 0, 2)\n",
    "\n",
    "        # Average the second to last hidden layer with shape [768]\n",
    "        token_vecs = hidden_states[-2][0]\n",
    "        embedding = torch.mean(token_vecs, dim=0)\n",
    "\n",
    "        bert[word] = embedding.tolist()\n",
    "\n",
    "    return bert"
   ]
  }
 ],
 "metadata": {
  "interpreter": {
   "hash": "908d8e35cafed2d8dcd55d36887f8c99001effcbffca4378cf2efe6ecc18c15a"
  },
  "kernelspec": {
   "display_name": "Python 3.10.2 ('.venv': venv)",
   "language": "python",
   "name": "python3"
  },
  "language_info": {
   "name": "python",
   "version": "3.10.2"
  },
  "orig_nbformat": 4
 },
 "nbformat": 4,
 "nbformat_minor": 2
}
